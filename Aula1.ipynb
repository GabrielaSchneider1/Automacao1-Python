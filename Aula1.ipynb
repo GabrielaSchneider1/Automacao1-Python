{
 "cells": [
  {
   "cell_type": "code",
   "execution_count": null,
   "id": "f32eac70",
   "metadata": {},
   "outputs": [],
   "source": [
    "!pip install pyautogui\n",
    "!pip install pyperclip"
   ]
  },
  {
   "cell_type": "code",
   "execution_count": 26,
   "id": "a0c8fe12",
   "metadata": {},
   "outputs": [],
   "source": [
    "#Passo 1: Entrar no sistema da empresa\n",
    "import pyautogui\n",
    "import pyperclip\n",
    "import time\n",
    "\n",
    "pyautogui.PAUSE = 1  #tempo/delay\n",
    "pyautogui.hotkey(\"ctrl\", \"t\") # abrindo uma aba do navegador quando ele estah aberto.\n",
    "# para abrir navegador seria: pyautogui.press(\"win\"), pyautogui.write(\"chrome\"), pyautogui.press(\"enter\").\n",
    "# ver guia de funcoes do pyautogui. \n",
    "\n",
    "# pyautogui.write(\"https://drive.google.com/drive/folders/149xknr9JvrlEnhNWO49zPcw0PW5icxga\") # usariamos este se nao tivesse caracter especial tipo \"?\"\n",
    "pyperclip.copy(\"https://drive.google.com/drive/folders/149xknr9JvrlEnhNWO49zPcw0PW5icxga\") # copiando o link para driblar os caracteres especiais \n",
    "pyautogui.hotkey(\"ctrl\", \"v\")\n",
    "pyautogui.press(\"enter\")\n",
    "time.sleep(5)  # esperar 5 segundos para carregar\n",
    "\n",
    "#Passo 2: Navegar no sistema até a pasta 'Exportar'\n",
    "pyautogui.click(x=319, y=268, clicks=2)\n",
    "\n",
    "#Passo 3: Fazer download da base de Vendas\n",
    "time.sleep(3) \n",
    "pyautogui.click(x=370, y=350) # clicar no arquivo para selecionar\n",
    "time.sleep(3)\n",
    "pyautogui.click(x=1164, y=157) # clicar em 3 pontinhos\n",
    "time.sleep(3)\n",
    "pyautogui.click(x=942, y=527) # clicar em Fazer Download\n",
    "\n",
    "\n",
    "#Passo 4: Importar a base para o Python\n",
    "#Passo 5: Calcular o faturamento e a quantidade de produtos vendidos (indicadores)\n",
    "#Passo 6: Enviar e-mail com os indicadores para a diretoria"
   ]
  },
  {
   "cell_type": "code",
   "execution_count": 20,
   "id": "145fec5c",
   "metadata": {},
   "outputs": [
    {
     "data": {
      "text/plain": [
       "Point(x=373, y=161)"
      ]
     },
     "execution_count": 20,
     "metadata": {},
     "output_type": "execute_result"
    }
   ],
   "source": [
    "# time.sleep(5) - aguardar para eu posicionar o cursor com o mouse em cima do local que deverah clicar\n",
    "# pyautogui.position() - para descobrir a posicao do item que quero clicar na tela, para usar de parametros no pyautogui.click()\n",
    " "
   ]
  },
  {
   "cell_type": "code",
   "execution_count": null,
   "id": "3ef0e204",
   "metadata": {},
   "outputs": [],
   "source": []
  }
 ],
 "metadata": {
  "kernelspec": {
   "display_name": "Python 3 (ipykernel)",
   "language": "python",
   "name": "python3"
  },
  "language_info": {
   "codemirror_mode": {
    "name": "ipython",
    "version": 3
   },
   "file_extension": ".py",
   "mimetype": "text/x-python",
   "name": "python",
   "nbconvert_exporter": "python",
   "pygments_lexer": "ipython3",
   "version": "3.9.7"
  }
 },
 "nbformat": 4,
 "nbformat_minor": 5
}
